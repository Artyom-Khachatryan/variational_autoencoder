{
  "nbformat": 4,
  "nbformat_minor": 0,
  "metadata": {
    "colab": {
      "provenance": []
    },
    "kernelspec": {
      "name": "python3",
      "display_name": "Python 3"
    },
    "language_info": {
      "name": "python"
    }
  },
  "cells": [
    {
      "cell_type": "code",
      "source": [
        "import tensorflow as tf\n",
        "import matplotlib.pyplot as plt\n",
        "import numpy as np\n",
        "from lfw_dataset import fetch_lfw_dataset\n",
        "\n",
        "data, attrs = fetch_lfw_dataset()"
      ],
      "metadata": {
        "id": "Wb_jjFAMYg1a"
      },
      "execution_count": 6,
      "outputs": []
    },
    {
      "cell_type": "code",
      "source": [
        "X_train = data[:10000].reshape((10000, -1))\n",
        "print(X_train.shape)\n",
        "X_val = data[10000:].reshape((-1, X_train.shape[1]))\n",
        "print(X_val.shape)\n",
        "\n",
        "image_h = data.shape[1]\n",
        "image_w = data.shape[2]"
      ],
      "metadata": {
        "colab": {
          "base_uri": "https://localhost:8080/"
        },
        "id": "X9fNs7qFaDKy",
        "outputId": "26afbc16-c127-440c-fe1a-add2adff1cb4"
      },
      "execution_count": 7,
      "outputs": [
        {
          "output_type": "stream",
          "name": "stdout",
          "text": [
            "(10000, 6075)\n",
            "(3143, 6075)\n"
          ]
        }
      ]
    },
    {
      "cell_type": "code",
      "source": [
        "X_train = np.float32(X_train)\n",
        "X_train = X_train/255\n",
        "X_val = np.float32(X_val)\n",
        "X_val = X_val/255"
      ],
      "metadata": {
        "id": "XJMhFI9NaEgj"
      },
      "execution_count": 8,
      "outputs": []
    },
    {
      "cell_type": "code",
      "source": [
        "def plot_gallery(images, h, w, n_row=3, n_col=6):\n",
        "    \"\"\"Helper function to plot a gallery of portraits\"\"\"\n",
        "    plt.figure(figsize=(1.5 * n_col, 1.7 * n_row))\n",
        "    plt.subplots_adjust(bottom=0, left=.01, right=.99, top=.90, hspace=.35)\n",
        "    for i in range(n_row * n_col):\n",
        "        plt.subplot(n_row, n_col, i + 1)\n",
        "        plt.imshow(images[i].reshape((h, w, 3)), cmap=plt.cm.gray, vmin=-1, vmax=1, interpolation='nearest')\n",
        "        plt.xticks(())\n",
        "        plt.yticks(())"
      ],
      "metadata": {
        "id": "M0A0O4G2a_Fl"
      },
      "execution_count": 10,
      "outputs": []
    },
    {
      "cell_type": "code",
      "source": [
        "plot_gallery(X_train, image_h, image_w)"
      ],
      "metadata": {
        "id": "Ci96C8kPbBCM"
      },
      "execution_count": null,
      "outputs": []
    },
    {
      "cell_type": "code",
      "execution_count": 23,
      "metadata": {
        "id": "TWj8SVibSvJa"
      },
      "outputs": [],
      "source": [
        "class VAE(tf.keras.Model):\n",
        "    def __init__(self, encoder, decoder, **kwargs):\n",
        "        super(VAE, self).__init__(**kwargs)\n",
        "        self.encoder = encoder\n",
        "        self.decoder = decoder\n",
        "\n",
        "    @tf.function\n",
        "    def KL_divergence(self, mu, logsigma):\n",
        "        kl_loss = -0.5 * tf.reduce_sum(1 + logsigma - tf.square(mu) - tf.exp(logsigma), axis=1)\n",
        "        return tf.reduce_mean(kl_loss)\n",
        "\n",
        "    @tf.function\n",
        "    def log_likelihood(self, x, z):\n",
        "        x_decoded = self.decoder(z)\n",
        "        log_likelihood = tf.reduce_sum(tf.keras.losses.binary_crossentropy(x, x_decoded), axis=1)\n",
        "        return tf.reduce_mean(log_likelihood)\n",
        "\n",
        "\n",
        "    def train_step(self, data):\n",
        "        x = data\n",
        "\n",
        "        with tf.GradientTape() as tape:\n",
        "            tape.watch(x)\n",
        "            z_mean, z_logsigma = self.encoder(x)\n",
        "            z = self.reparameterize(z_mean, z_logsigma)\n",
        "            x_decoded_mean = self.decoder(z)\n",
        "            kl_loss = self.KL_divergence(z_mean, z_logsigma)\n",
        "            log_likelihood = self.log_likelihood(x, x_decoded_mean)\n",
        "            total_loss = kl_loss + log_likelihood\n",
        "\n",
        "        gradients = tape.gradient(total_loss, self.trainable_variables)\n",
        "        self.optimizer.apply_gradients(zip(gradients, self.trainable_variables))\n",
        "\n",
        "        return {\n",
        "            \"total_loss\": total_loss,\n",
        "            \"kl_loss\": kl_loss,\n",
        "            \"log_likelihood\": log_likelihood\n",
        "        }\n",
        "\n",
        "    def call(self, inputs):\n",
        "        return self.encoder(inputs)\n"
      ]
    },
    {
      "cell_type": "code",
      "source": [
        "class DisplayCallback(tf.keras.callbacks.Callback):\n",
        "    def __init__(self, model, rate):\n",
        "        super(DisplayCallback, self).__init__()\n",
        "        self.model = model\n",
        "        self.rate = rate\n",
        "\n",
        "    def on_epoch_end(self, epoch, logs=None):\n",
        "        model = self.model\n",
        "        if epoch % self.rate == 0:\n",
        "            idx = np.random.choice(X_train.shape[0])\n",
        "            plt.subplot(221)\n",
        "            plt.imshow(X_train[idx].reshape(\n",
        "                (image_h, image_w, 3)\n",
        "            ))\n",
        "            plt.subplot(222)\n",
        "            plt.imshow(tf.reshape(\n",
        "                model(X_train[tf.newaxis, idx]), (image_h, image_w, 3)\n",
        "            ))\n",
        "            idx = np.random.choice(X_val.shape[0])\n",
        "            plt.subplot(223)\n",
        "            plt.imshow(X_val[idx].reshape(\n",
        "                (image_h, image_w, 3)\n",
        "            ))\n",
        "            plt.subplot(224)\n",
        "            plt.imshow(tf.reshape(\n",
        "                model(X_val[tf.newaxis, idx]), (image_h, image_w, 3)\n",
        "            ))\n",
        "            plt.show()"
      ],
      "metadata": {
        "id": "IrPQyM38bwVG"
      },
      "execution_count": 12,
      "outputs": []
    },
    {
      "cell_type": "code",
      "source": [
        "encoder = tf.keras.Sequential()\n",
        "decoder = tf.keras.Sequential()\n",
        "encoder.add(tf.keras.layers.Dense(64, activation='relu', kernel_initializer= tf.keras.initializers.GlorotUniform()))\n",
        "encoder.add(tf.keras.layers.Dense(128, activation='relu', kernel_initializer= tf.keras.initializers.GlorotUniform()))\n",
        "decoder.add(tf.keras.layers.Dense(128, activation='relu', kernel_initializer= tf.keras.initializers.GlorotUniform()))\n",
        "decoder.add(tf.keras.layers.Dense(64, activation='sigmoid', kernel_initializer= tf.keras.initializers.GlorotUniform()))"
      ],
      "metadata": {
        "id": "nq6qbPovb3Qj"
      },
      "execution_count": 13,
      "outputs": []
    },
    {
      "cell_type": "code",
      "source": [
        "vae = VAE(encoder, decoder)\n",
        "vae.compile(optimizer=tf.keras.optimizers.Adam())\n",
        "callback = DisplayCallback(vae, 2)"
      ],
      "metadata": {
        "id": "dctWteUwX9jb"
      },
      "execution_count": 14,
      "outputs": []
    },
    {
      "cell_type": "code",
      "source": [
        "history = vae.fit(\n",
        "    X_train, X_train,\n",
        "    epochs=30,\n",
        "    validation_data = (X_val, X_val),\n",
        "    callbacks=[callback]\n",
        "                  )"
      ],
      "metadata": {
        "colab": {
          "base_uri": "https://localhost:8080/",
          "height": 397
        },
        "id": "0z15xaAEdGnQ",
        "outputId": "cc8eac27-e4fa-4262-c2ed-74972ccf7830"
      },
      "execution_count": 24,
      "outputs": [
        {
          "output_type": "stream",
          "name": "stdout",
          "text": [
            "Epoch 1/30\n"
          ]
        },
        {
          "output_type": "error",
          "ename": "TypeError",
          "evalue": "ignored",
          "traceback": [
            "\u001b[0;31m---------------------------------------------------------------------------\u001b[0m",
            "\u001b[0;31mTypeError\u001b[0m                                 Traceback (most recent call last)",
            "\u001b[0;32m<ipython-input-24-e59c2ddd0765>\u001b[0m in \u001b[0;36m<cell line: 1>\u001b[0;34m()\u001b[0m\n\u001b[0;32m----> 1\u001b[0;31m history = vae.fit(\n\u001b[0m\u001b[1;32m      2\u001b[0m     \u001b[0mX_train\u001b[0m\u001b[0;34m,\u001b[0m \u001b[0mX_train\u001b[0m\u001b[0;34m,\u001b[0m\u001b[0;34m\u001b[0m\u001b[0;34m\u001b[0m\u001b[0m\n\u001b[1;32m      3\u001b[0m     \u001b[0mepochs\u001b[0m\u001b[0;34m=\u001b[0m\u001b[0;36m30\u001b[0m\u001b[0;34m,\u001b[0m\u001b[0;34m\u001b[0m\u001b[0;34m\u001b[0m\u001b[0m\n\u001b[1;32m      4\u001b[0m     \u001b[0mvalidation_data\u001b[0m \u001b[0;34m=\u001b[0m \u001b[0;34m(\u001b[0m\u001b[0mX_val\u001b[0m\u001b[0;34m,\u001b[0m \u001b[0mX_val\u001b[0m\u001b[0;34m)\u001b[0m\u001b[0;34m,\u001b[0m\u001b[0;34m\u001b[0m\u001b[0;34m\u001b[0m\u001b[0m\n\u001b[1;32m      5\u001b[0m     \u001b[0mcallbacks\u001b[0m\u001b[0;34m=\u001b[0m\u001b[0;34m[\u001b[0m\u001b[0mcallback\u001b[0m\u001b[0;34m]\u001b[0m\u001b[0;34m\u001b[0m\u001b[0;34m\u001b[0m\u001b[0m\n",
            "\u001b[0;32m/usr/local/lib/python3.10/dist-packages/keras/utils/traceback_utils.py\u001b[0m in \u001b[0;36merror_handler\u001b[0;34m(*args, **kwargs)\u001b[0m\n\u001b[1;32m     68\u001b[0m             \u001b[0;31m# To get the full stack trace, call:\u001b[0m\u001b[0;34m\u001b[0m\u001b[0;34m\u001b[0m\u001b[0m\n\u001b[1;32m     69\u001b[0m             \u001b[0;31m# `tf.debugging.disable_traceback_filtering()`\u001b[0m\u001b[0;34m\u001b[0m\u001b[0;34m\u001b[0m\u001b[0m\n\u001b[0;32m---> 70\u001b[0;31m             \u001b[0;32mraise\u001b[0m \u001b[0me\u001b[0m\u001b[0;34m.\u001b[0m\u001b[0mwith_traceback\u001b[0m\u001b[0;34m(\u001b[0m\u001b[0mfiltered_tb\u001b[0m\u001b[0;34m)\u001b[0m \u001b[0;32mfrom\u001b[0m \u001b[0;32mNone\u001b[0m\u001b[0;34m\u001b[0m\u001b[0;34m\u001b[0m\u001b[0m\n\u001b[0m\u001b[1;32m     71\u001b[0m         \u001b[0;32mfinally\u001b[0m\u001b[0;34m:\u001b[0m\u001b[0;34m\u001b[0m\u001b[0;34m\u001b[0m\u001b[0m\n\u001b[1;32m     72\u001b[0m             \u001b[0;32mdel\u001b[0m \u001b[0mfiltered_tb\u001b[0m\u001b[0;34m\u001b[0m\u001b[0;34m\u001b[0m\u001b[0m\n",
            "\u001b[0;32m/usr/local/lib/python3.10/dist-packages/tensorflow/python/eager/polymorphic_function/polymorphic_function.py\u001b[0m in \u001b[0;36m_call\u001b[0;34m(self, *args, **kwds)\u001b[0m\n\u001b[1;32m    924\u001b[0m       \u001b[0;31m# In this case we have created variables on the first call, so we run the\u001b[0m\u001b[0;34m\u001b[0m\u001b[0;34m\u001b[0m\u001b[0m\n\u001b[1;32m    925\u001b[0m       \u001b[0;31m# defunned version which is guaranteed to never create variables.\u001b[0m\u001b[0;34m\u001b[0m\u001b[0;34m\u001b[0m\u001b[0m\n\u001b[0;32m--> 926\u001b[0;31m       \u001b[0;32mreturn\u001b[0m \u001b[0mself\u001b[0m\u001b[0;34m.\u001b[0m\u001b[0m_no_variable_creation_fn\u001b[0m\u001b[0;34m(\u001b[0m\u001b[0;34m*\u001b[0m\u001b[0margs\u001b[0m\u001b[0;34m,\u001b[0m \u001b[0;34m**\u001b[0m\u001b[0mkwds\u001b[0m\u001b[0;34m)\u001b[0m  \u001b[0;31m# pylint: disable=not-callable\u001b[0m\u001b[0;34m\u001b[0m\u001b[0;34m\u001b[0m\u001b[0m\n\u001b[0m\u001b[1;32m    927\u001b[0m     \u001b[0;32melif\u001b[0m \u001b[0mself\u001b[0m\u001b[0;34m.\u001b[0m\u001b[0m_variable_creation_fn\u001b[0m \u001b[0;32mis\u001b[0m \u001b[0;32mnot\u001b[0m \u001b[0;32mNone\u001b[0m\u001b[0;34m:\u001b[0m\u001b[0;34m\u001b[0m\u001b[0;34m\u001b[0m\u001b[0m\n\u001b[1;32m    928\u001b[0m       \u001b[0;31m# Release the lock early so that multiple threads can perform the call\u001b[0m\u001b[0;34m\u001b[0m\u001b[0;34m\u001b[0m\u001b[0m\n",
            "\u001b[0;31mTypeError\u001b[0m: 'NoneType' object is not callable"
          ]
        }
      ]
    },
    {
      "cell_type": "code",
      "source": [],
      "metadata": {
        "id": "v9_aEUwDeAy5"
      },
      "execution_count": null,
      "outputs": []
    }
  ]
}